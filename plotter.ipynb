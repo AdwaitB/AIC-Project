{
 "cells": [
  {
   "cell_type": "code",
   "execution_count": 1,
   "metadata": {},
   "outputs": [],
   "source": [
    "import seaborn as sns\n",
    "import matplotlib.pyplot as plt\n",
    "import numpy as np\n",
    "import pandas as pd\n",
    "import random as random\n",
    "\n",
    "sns.set_style('darkgrid')\n",
    "#sns.set_palette(sns.color_palette(\"viridis\"))"
   ]
  },
  {
   "cell_type": "code",
   "execution_count": 2,
   "metadata": {},
   "outputs": [],
   "source": [
    "def plot_pair_metrics(n, x, y, title, y_axis):\n",
    "    df = pd.DataFrame({\n",
    "        'No of groups': x,\n",
    "        y_axis: y,\n",
    "        'Clients': n\n",
    "    })\n",
    "    if np.mean(y)<1:\n",
    "        ax = sns.lineplot(\n",
    "            data=df, x='No of groups', y=y_axis, hue='Clients', estimator=None, linewidth=4\n",
    "        ).set(title=title)\n",
    "    else:\n",
    "        y = np.where(y >=40, 41, y)\n",
    "        df = pd.DataFrame({\n",
    "        'No of groups': x,\n",
    "        y_axis: y,\n",
    "        'Clients': n\n",
    "        })\n",
    "        ax = sns.lineplot(\n",
    "            data=df, x='No of groups', y=y_axis, hue='Clients', estimator=None, linewidth=4\n",
    "        ).set(title=title)\n",
    "\n",
    "    plt.title(title)\n",
    "    plt.xticks(x)\n",
    "    plt.legend(loc='lower right', title='Total number of clients')\n",
    "    plt.show()\n",
    "\n",
    "def pair_wise_post_process(acc, no_grps_list, total_clients, global_rounds, cutoffs):\n",
    "    accuracy_end = [max(acc[i]) for i in acc]\n",
    "    plt.ylim(0, 1)\n",
    "    plot_pair_metrics([total_clients]*len(no_grps_list), no_grps_list, accuracy_end, f\"Accuracy after {global_rounds} rounds\", \"Accuracy\")\n",
    "    metrics_rounds_85 = np.zeros(len(no_grps_list))\n",
    "    metrics_rounds_75 = np.zeros(len(no_grps_list))\n",
    "    for j in cutoffs:\n",
    "        metrics_rounds_75 = np.zeros(len(no_grps_list))\n",
    "        for i in range(len(acc)):\n",
    "            if len(np.argwhere(np.array(acc[i])>=j)) > 0:\n",
    "                metrics_rounds_75[i] = np.argwhere(np.array(acc[i])>=j)[0][0]\n",
    "            else:\n",
    "                metrics_rounds_75[i] = 99\n",
    "    \n",
    "        plt.ylim(0, 50)\n",
    "        plot_pair_metrics([total_clients]*len(no_grps_list), no_grps_list, metrics_rounds_75, f\"Rounds to reach {j*100}% accuracy\", \"Rounds\")"
   ]
  },
  {
   "cell_type": "code",
   "execution_count": 3,
   "metadata": {},
   "outputs": [],
   "source": [
    "dict_results = {}\n",
    "\n",
    "for i in [100, 250, 500, 1000]:\n",
    "    dict_results[i] = np.load(f\"./results/{i}.npy\", allow_pickle=True)[()]\n",
    "    #pair_wise_post_process(dict_results[i], [1, 2, 5, 10], i, 40, [0.80, 0.75])"
   ]
  },
  {
   "cell_type": "code",
   "execution_count": 4,
   "metadata": {},
   "outputs": [],
   "source": [
    "dict_fraud = {}\n",
    "\n",
    "for i in [50, 100, 250, 350]:\n",
    "    dict_fraud[i] = np.load(f\"./fraud/{i}.npy\", allow_pickle=True)[()]\n",
    "    #pair_wise_post_process(dict_fraud[i], [1, 2, 5, 10], i, 40, [0.75, 0.70])"
   ]
  },
  {
   "cell_type": "code",
   "execution_count": 5,
   "metadata": {},
   "outputs": [],
   "source": [
    "def get_metrics(acc, cutoffs, group_sizes=[1, 2, 5, 10]):\n",
    "    ret = {}\n",
    "    ret['peers'] = []\n",
    "    ret['group_size'] = []\n",
    "    ret['max_accuracy'] = []\n",
    "    \n",
    "    for cutoff in cutoffs:\n",
    "        ret[f'rounds_to_{int(cutoff*100)}_accuracy'] = []\n",
    "\n",
    "    for x in acc:\n",
    "        for y in acc[x]:\n",
    "            arr = acc[x][y]\n",
    "            ret['peers'].append(x)\n",
    "            ret['group_size'].append(group_sizes[y])\n",
    "            ret['max_accuracy'].append(max(arr))\n",
    "\n",
    "            for i, cutoff in enumerate(cutoffs):\n",
    "                val = None\n",
    "                for j, val in enumerate(arr):\n",
    "                    if val >= cutoff:\n",
    "                        val = j\n",
    "                        break\n",
    "                ret[f'rounds_to_{int(cutoff*100)}_accuracy'].append(val)\n",
    "\n",
    "    return pd.DataFrame(ret)"
   ]
  },
  {
   "cell_type": "code",
   "execution_count": 6,
   "metadata": {},
   "outputs": [
    {
     "data": {
      "text/html": [
       "<div>\n",
       "<style scoped>\n",
       "    .dataframe tbody tr th:only-of-type {\n",
       "        vertical-align: middle;\n",
       "    }\n",
       "\n",
       "    .dataframe tbody tr th {\n",
       "        vertical-align: top;\n",
       "    }\n",
       "\n",
       "    .dataframe thead th {\n",
       "        text-align: right;\n",
       "    }\n",
       "</style>\n",
       "<table border=\"1\" class=\"dataframe\">\n",
       "  <thead>\n",
       "    <tr style=\"text-align: right;\">\n",
       "      <th></th>\n",
       "      <th>peers</th>\n",
       "      <th>group_size</th>\n",
       "      <th>max_accuracy</th>\n",
       "      <th>rounds_to_75_accuracy</th>\n",
       "      <th>rounds_to_80_accuracy</th>\n",
       "    </tr>\n",
       "  </thead>\n",
       "  <tbody>\n",
       "    <tr>\n",
       "      <th>0</th>\n",
       "      <td>100</td>\n",
       "      <td>1</td>\n",
       "      <td>0.8255</td>\n",
       "      <td>30.0000</td>\n",
       "      <td>32.0000</td>\n",
       "    </tr>\n",
       "    <tr>\n",
       "      <th>1</th>\n",
       "      <td>100</td>\n",
       "      <td>2</td>\n",
       "      <td>0.8284</td>\n",
       "      <td>24.0000</td>\n",
       "      <td>27.0000</td>\n",
       "    </tr>\n",
       "    <tr>\n",
       "      <th>2</th>\n",
       "      <td>100</td>\n",
       "      <td>5</td>\n",
       "      <td>0.8335</td>\n",
       "      <td>29.0000</td>\n",
       "      <td>32.0000</td>\n",
       "    </tr>\n",
       "    <tr>\n",
       "      <th>3</th>\n",
       "      <td>100</td>\n",
       "      <td>10</td>\n",
       "      <td>0.8266</td>\n",
       "      <td>26.0000</td>\n",
       "      <td>28.0000</td>\n",
       "    </tr>\n",
       "    <tr>\n",
       "      <th>4</th>\n",
       "      <td>250</td>\n",
       "      <td>1</td>\n",
       "      <td>0.8382</td>\n",
       "      <td>29.0000</td>\n",
       "      <td>29.0000</td>\n",
       "    </tr>\n",
       "    <tr>\n",
       "      <th>5</th>\n",
       "      <td>250</td>\n",
       "      <td>2</td>\n",
       "      <td>0.8320</td>\n",
       "      <td>26.0000</td>\n",
       "      <td>26.0000</td>\n",
       "    </tr>\n",
       "    <tr>\n",
       "      <th>6</th>\n",
       "      <td>250</td>\n",
       "      <td>5</td>\n",
       "      <td>0.8327</td>\n",
       "      <td>26.0000</td>\n",
       "      <td>27.0000</td>\n",
       "    </tr>\n",
       "    <tr>\n",
       "      <th>7</th>\n",
       "      <td>250</td>\n",
       "      <td>10</td>\n",
       "      <td>0.8360</td>\n",
       "      <td>27.0000</td>\n",
       "      <td>27.0000</td>\n",
       "    </tr>\n",
       "    <tr>\n",
       "      <th>8</th>\n",
       "      <td>500</td>\n",
       "      <td>1</td>\n",
       "      <td>0.8143</td>\n",
       "      <td>22.0000</td>\n",
       "      <td>22.0000</td>\n",
       "    </tr>\n",
       "    <tr>\n",
       "      <th>9</th>\n",
       "      <td>500</td>\n",
       "      <td>2</td>\n",
       "      <td>0.8168</td>\n",
       "      <td>23.0000</td>\n",
       "      <td>29.0000</td>\n",
       "    </tr>\n",
       "    <tr>\n",
       "      <th>10</th>\n",
       "      <td>500</td>\n",
       "      <td>5</td>\n",
       "      <td>0.8135</td>\n",
       "      <td>23.0000</td>\n",
       "      <td>25.0000</td>\n",
       "    </tr>\n",
       "    <tr>\n",
       "      <th>11</th>\n",
       "      <td>500</td>\n",
       "      <td>10</td>\n",
       "      <td>0.8049</td>\n",
       "      <td>21.0000</td>\n",
       "      <td>22.0000</td>\n",
       "    </tr>\n",
       "    <tr>\n",
       "      <th>12</th>\n",
       "      <td>1000</td>\n",
       "      <td>1</td>\n",
       "      <td>0.7867</td>\n",
       "      <td>39.0000</td>\n",
       "      <td>0.7867</td>\n",
       "    </tr>\n",
       "    <tr>\n",
       "      <th>13</th>\n",
       "      <td>1000</td>\n",
       "      <td>2</td>\n",
       "      <td>0.7752</td>\n",
       "      <td>11.0000</td>\n",
       "      <td>0.6209</td>\n",
       "    </tr>\n",
       "    <tr>\n",
       "      <th>14</th>\n",
       "      <td>1000</td>\n",
       "      <td>5</td>\n",
       "      <td>0.7495</td>\n",
       "      <td>0.6256</td>\n",
       "      <td>0.6256</td>\n",
       "    </tr>\n",
       "    <tr>\n",
       "      <th>15</th>\n",
       "      <td>1000</td>\n",
       "      <td>10</td>\n",
       "      <td>0.7842</td>\n",
       "      <td>10.0000</td>\n",
       "      <td>0.7393</td>\n",
       "    </tr>\n",
       "  </tbody>\n",
       "</table>\n",
       "</div>"
      ],
      "text/plain": [
       "    peers  group_size  max_accuracy  rounds_to_75_accuracy  \\\n",
       "0     100           1        0.8255                30.0000   \n",
       "1     100           2        0.8284                24.0000   \n",
       "2     100           5        0.8335                29.0000   \n",
       "3     100          10        0.8266                26.0000   \n",
       "4     250           1        0.8382                29.0000   \n",
       "5     250           2        0.8320                26.0000   \n",
       "6     250           5        0.8327                26.0000   \n",
       "7     250          10        0.8360                27.0000   \n",
       "8     500           1        0.8143                22.0000   \n",
       "9     500           2        0.8168                23.0000   \n",
       "10    500           5        0.8135                23.0000   \n",
       "11    500          10        0.8049                21.0000   \n",
       "12   1000           1        0.7867                39.0000   \n",
       "13   1000           2        0.7752                11.0000   \n",
       "14   1000           5        0.7495                 0.6256   \n",
       "15   1000          10        0.7842                10.0000   \n",
       "\n",
       "    rounds_to_80_accuracy  \n",
       "0                 32.0000  \n",
       "1                 27.0000  \n",
       "2                 32.0000  \n",
       "3                 28.0000  \n",
       "4                 29.0000  \n",
       "5                 26.0000  \n",
       "6                 27.0000  \n",
       "7                 27.0000  \n",
       "8                 22.0000  \n",
       "9                 29.0000  \n",
       "10                25.0000  \n",
       "11                22.0000  \n",
       "12                 0.7867  \n",
       "13                 0.6209  \n",
       "14                 0.6256  \n",
       "15                 0.7393  "
      ]
     },
     "execution_count": 6,
     "metadata": {},
     "output_type": "execute_result"
    }
   ],
   "source": [
    "df_covid = get_metrics(dict_results, [0.75, 0.8])\n",
    "df_covid"
   ]
  },
  {
   "cell_type": "code",
   "execution_count": 7,
   "metadata": {},
   "outputs": [
    {
     "data": {
      "text/plain": [
       "Text(0.5, 1.0, 'Max accuracy on Covid dataset after 40 epochs')"
      ]
     },
     "execution_count": 7,
     "metadata": {},
     "output_type": "execute_result"
    },
    {
     "data": {
      "image/png": "[encoded data removed]",
      "text/plain": [
       "<Figure size 432x288 with 1 Axes>"
      ]
     },
     "metadata": {},
     "output_type": "display_data"
    }
   ],
   "source": [
    "sns.lineplot(data=df_covid, x=\"group_size\", y=\"max_accuracy\", hue=\"peers\")\n",
    "plt.ylim(0, 1)\n",
    "plt.title(\"Max accuracy on Covid dataset after 40 epochs\")"
   ]
  },
  {
   "cell_type": "code",
   "execution_count": 8,
   "metadata": {},
   "outputs": [
    {
     "data": {
      "text/plain": [
       "Text(0.5, 1.0, 'Rounds to reach 75% accuracy on Covid dataset')"
      ]
     },
     "execution_count": 8,
     "metadata": {},
     "output_type": "execute_result"
    },
    {
     "data": {
      "image/png": "[encoded data removed]",
      "text/plain": [
       "<Figure size 432x288 with 1 Axes>"
      ]
     },
     "metadata": {},
     "output_type": "display_data"
    }
   ],
   "source": [
    "sns.lineplot(data=df_covid[df_covid['peers'] != 1000], x=\"group_size\", y=\"rounds_to_75_accuracy\", hue=\"peers\")\n",
    "plt.ylim(1, 40)\n",
    "plt.title(\"Rounds to reach 75% accuracy on Covid dataset\")"
   ]
  },
  {
   "cell_type": "code",
   "execution_count": 9,
   "metadata": {},
   "outputs": [
    {
     "data": {
      "text/plain": [
       "Text(0.5, 1.0, 'Rounds to reach 80% accuracy on Covid dataset')"
      ]
     },
     "execution_count": 9,
     "metadata": {},
     "output_type": "execute_result"
    },
    {
     "data": {
      "image/png": "[encoded data removed]",
      "text/plain": [
       "<Figure size 432x288 with 1 Axes>"
      ]
     },
     "metadata": {},
     "output_type": "display_data"
    }
   ],
   "source": [
    "sns.lineplot(data=df_covid[df_covid['peers'] != 1000], x=\"group_size\", y=\"rounds_to_80_accuracy\", hue=\"peers\")\n",
    "plt.ylim(1, 40)\n",
    "plt.title(\"Rounds to reach 80% accuracy on Covid dataset\")"
   ]
  },
  {
   "cell_type": "code",
   "execution_count": 10,
   "metadata": {},
   "outputs": [
    {
     "data": {
      "text/html": [
       "<div>\n",
       "<style scoped>\n",
       "    .dataframe tbody tr th:only-of-type {\n",
       "        vertical-align: middle;\n",
       "    }\n",
       "\n",
       "    .dataframe tbody tr th {\n",
       "        vertical-align: top;\n",
       "    }\n",
       "\n",
       "    .dataframe thead th {\n",
       "        text-align: right;\n",
       "    }\n",
       "</style>\n",
       "<table border=\"1\" class=\"dataframe\">\n",
       "  <thead>\n",
       "    <tr style=\"text-align: right;\">\n",
       "      <th></th>\n",
       "      <th>peers</th>\n",
       "      <th>group_size</th>\n",
       "      <th>max_accuracy</th>\n",
       "      <th>rounds_to_75_accuracy</th>\n",
       "      <th>rounds_to_80_accuracy</th>\n",
       "    </tr>\n",
       "  </thead>\n",
       "  <tbody>\n",
       "    <tr>\n",
       "      <th>0</th>\n",
       "      <td>50</td>\n",
       "      <td>1</td>\n",
       "      <td>0.8276</td>\n",
       "      <td>14.0000</td>\n",
       "      <td>15.0000</td>\n",
       "    </tr>\n",
       "    <tr>\n",
       "      <th>1</th>\n",
       "      <td>50</td>\n",
       "      <td>2</td>\n",
       "      <td>0.8522</td>\n",
       "      <td>13.0000</td>\n",
       "      <td>14.0000</td>\n",
       "    </tr>\n",
       "    <tr>\n",
       "      <th>2</th>\n",
       "      <td>50</td>\n",
       "      <td>5</td>\n",
       "      <td>0.8374</td>\n",
       "      <td>13.0000</td>\n",
       "      <td>16.0000</td>\n",
       "    </tr>\n",
       "    <tr>\n",
       "      <th>3</th>\n",
       "      <td>50</td>\n",
       "      <td>10</td>\n",
       "      <td>0.8621</td>\n",
       "      <td>13.0000</td>\n",
       "      <td>14.0000</td>\n",
       "    </tr>\n",
       "    <tr>\n",
       "      <th>4</th>\n",
       "      <td>100</td>\n",
       "      <td>1</td>\n",
       "      <td>0.8818</td>\n",
       "      <td>6.0000</td>\n",
       "      <td>7.0000</td>\n",
       "    </tr>\n",
       "    <tr>\n",
       "      <th>5</th>\n",
       "      <td>100</td>\n",
       "      <td>2</td>\n",
       "      <td>0.8719</td>\n",
       "      <td>7.0000</td>\n",
       "      <td>8.0000</td>\n",
       "    </tr>\n",
       "    <tr>\n",
       "      <th>6</th>\n",
       "      <td>100</td>\n",
       "      <td>5</td>\n",
       "      <td>0.8818</td>\n",
       "      <td>6.0000</td>\n",
       "      <td>7.0000</td>\n",
       "    </tr>\n",
       "    <tr>\n",
       "      <th>7</th>\n",
       "      <td>100</td>\n",
       "      <td>10</td>\n",
       "      <td>0.8768</td>\n",
       "      <td>6.0000</td>\n",
       "      <td>7.0000</td>\n",
       "    </tr>\n",
       "    <tr>\n",
       "      <th>8</th>\n",
       "      <td>250</td>\n",
       "      <td>1</td>\n",
       "      <td>0.4483</td>\n",
       "      <td>0.2562</td>\n",
       "      <td>0.2562</td>\n",
       "    </tr>\n",
       "    <tr>\n",
       "      <th>9</th>\n",
       "      <td>250</td>\n",
       "      <td>2</td>\n",
       "      <td>0.4286</td>\n",
       "      <td>0.2463</td>\n",
       "      <td>0.2463</td>\n",
       "    </tr>\n",
       "    <tr>\n",
       "      <th>10</th>\n",
       "      <td>250</td>\n",
       "      <td>5</td>\n",
       "      <td>0.4286</td>\n",
       "      <td>0.2512</td>\n",
       "      <td>0.2512</td>\n",
       "    </tr>\n",
       "    <tr>\n",
       "      <th>11</th>\n",
       "      <td>250</td>\n",
       "      <td>10</td>\n",
       "      <td>0.4631</td>\n",
       "      <td>0.2611</td>\n",
       "      <td>0.2611</td>\n",
       "    </tr>\n",
       "    <tr>\n",
       "      <th>12</th>\n",
       "      <td>350</td>\n",
       "      <td>1</td>\n",
       "      <td>0.6207</td>\n",
       "      <td>0.6207</td>\n",
       "      <td>0.6207</td>\n",
       "    </tr>\n",
       "    <tr>\n",
       "      <th>13</th>\n",
       "      <td>350</td>\n",
       "      <td>2</td>\n",
       "      <td>0.4778</td>\n",
       "      <td>0.4778</td>\n",
       "      <td>0.4778</td>\n",
       "    </tr>\n",
       "    <tr>\n",
       "      <th>14</th>\n",
       "      <td>350</td>\n",
       "      <td>5</td>\n",
       "      <td>0.4631</td>\n",
       "      <td>0.4631</td>\n",
       "      <td>0.4631</td>\n",
       "    </tr>\n",
       "    <tr>\n",
       "      <th>15</th>\n",
       "      <td>350</td>\n",
       "      <td>10</td>\n",
       "      <td>0.4581</td>\n",
       "      <td>0.4581</td>\n",
       "      <td>0.4581</td>\n",
       "    </tr>\n",
       "  </tbody>\n",
       "</table>\n",
       "</div>"
      ],
      "text/plain": [
       "    peers  group_size  max_accuracy  rounds_to_75_accuracy  \\\n",
       "0      50           1        0.8276                14.0000   \n",
       "1      50           2        0.8522                13.0000   \n",
       "2      50           5        0.8374                13.0000   \n",
       "3      50          10        0.8621                13.0000   \n",
       "4     100           1        0.8818                 6.0000   \n",
       "5     100           2        0.8719                 7.0000   \n",
       "6     100           5        0.8818                 6.0000   \n",
       "7     100          10        0.8768                 6.0000   \n",
       "8     250           1        0.4483                 0.2562   \n",
       "9     250           2        0.4286                 0.2463   \n",
       "10    250           5        0.4286                 0.2512   \n",
       "11    250          10        0.4631                 0.2611   \n",
       "12    350           1        0.6207                 0.6207   \n",
       "13    350           2        0.4778                 0.4778   \n",
       "14    350           5        0.4631                 0.4631   \n",
       "15    350          10        0.4581                 0.4581   \n",
       "\n",
       "    rounds_to_80_accuracy  \n",
       "0                 15.0000  \n",
       "1                 14.0000  \n",
       "2                 16.0000  \n",
       "3                 14.0000  \n",
       "4                  7.0000  \n",
       "5                  8.0000  \n",
       "6                  7.0000  \n",
       "7                  7.0000  \n",
       "8                  0.2562  \n",
       "9                  0.2463  \n",
       "10                 0.2512  \n",
       "11                 0.2611  \n",
       "12                 0.6207  \n",
       "13                 0.4778  \n",
       "14                 0.4631  \n",
       "15                 0.4581  "
      ]
     },
     "execution_count": 10,
     "metadata": {},
     "output_type": "execute_result"
    }
   ],
   "source": [
    "df_fraud = get_metrics(dict_fraud, [0.75, 0.8])\n",
    "df_fraud"
   ]
  },
  {
   "cell_type": "code",
   "execution_count": 11,
   "metadata": {},
   "outputs": [
    {
     "data": {
      "text/plain": [
       "Text(0.5, 1.0, 'Max accuracy on Fraud dataset after 40 epochs')"
      ]
     },
     "execution_count": 11,
     "metadata": {},
     "output_type": "execute_result"
    },
    {
     "data": {
      "image/png": "[encoded data removed]",
      "text/plain": [
       "<Figure size 432x288 with 1 Axes>"
      ]
     },
     "metadata": {},
     "output_type": "display_data"
    }
   ],
   "source": [
    "sns.lineplot(data=df_fraud[df_fraud['peers'] < 240], x=\"group_size\", y=\"max_accuracy\", hue=\"peers\")\n",
    "plt.ylim(0, 1)\n",
    "plt.title(\"Max accuracy on Fraud dataset after 40 epochs\")"
   ]
  },
  {
   "cell_type": "code",
   "execution_count": 12,
   "metadata": {},
   "outputs": [
    {
     "data": {
      "text/plain": [
       "Text(0.5, 1.0, 'Rounds to reach 75% accuracy on Covid dataset')"
      ]
     },
     "execution_count": 12,
     "metadata": {},
     "output_type": "execute_result"
    },
    {
     "data": {
      "image/png": "[encoded data removed]",
      "text/plain": [
       "<Figure size 432x288 with 1 Axes>"
      ]
     },
     "metadata": {},
     "output_type": "display_data"
    }
   ],
   "source": [
    "sns.lineplot(data=df_fraud[df_fraud['peers'] != 1000], x=\"group_size\", y=\"rounds_to_75_accuracy\", hue=\"peers\")\n",
    "plt.ylim(1, 40)\n",
    "plt.title(\"Rounds to reach 75% accuracy on Covid dataset\")"
   ]
  },
  {
   "cell_type": "code",
   "execution_count": 13,
   "metadata": {},
   "outputs": [
    {
     "data": {
      "text/plain": [
       "Text(0.5, 1.0, 'Rounds to reach 80% accuracy on Covid dataset')"
      ]
     },
     "execution_count": 13,
     "metadata": {},
     "output_type": "execute_result"
    },
    {
     "data": {
      "image/png": "[encoded data removed]",
      "text/plain": [
       "<Figure size 432x288 with 1 Axes>"
      ]
     },
     "metadata": {},
     "output_type": "display_data"
    }
   ],
   "source": [
    "sns.lineplot(data=df_fraud[df_fraud['peers'] != 1000], x=\"group_size\", y=\"rounds_to_80_accuracy\", hue=\"peers\")\n",
    "plt.ylim(1, 40)\n",
    "plt.title(\"Rounds to reach 80% accuracy on Covid dataset\")"
   ]
  },
  {
   "cell_type": "code",
   "execution_count": null,
   "metadata": {},
   "outputs": [],
   "source": []
  }
 ],
 "metadata": {
  "interpreter": {
   "hash": "ea0e16067e1cbf86c0a18e717e172ad32f238e281f7c53321ed89faa68a90c3a"
  },
  "kernelspec": {
   "display_name": "Python 3.9.12 ('default_conda_39')",
   "language": "python",
   "name": "python3"
  },
  "language_info": {
   "codemirror_mode": {
    "name": "ipython",
    "version": 3
   },
   "file_extension": ".py",
   "mimetype": "text/x-python",
   "name": "python",
   "nbconvert_exporter": "python",
   "pygments_lexer": "ipython3",
   "version": "3.9.12"
  },
  "orig_nbformat": 4
 },
 "nbformat": 4,
 "nbformat_minor": 2
}
